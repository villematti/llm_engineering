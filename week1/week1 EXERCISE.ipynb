{
 "cells": [
  {
   "cell_type": "markdown",
   "id": "fe12c203-e6a6-452c-a655-afb8a03a4ff5",
   "metadata": {},
   "source": [
    "# End of week 1 exercise\n",
    "\n",
    "To demonstrate your familiarity with OpenAI API, and also Ollama, build a tool that takes a technical question,  \n",
    "and responds with an explanation. This is a tool that you will be able to use yourself during the course!"
   ]
  },
  {
   "cell_type": "code",
   "execution_count": 1,
   "id": "c1070317-3ed9-4659-abe3-828943230e03",
   "metadata": {},
   "outputs": [],
   "source": [
    "# imports\n",
    "import os\n",
    "import requests\n",
    "import json\n",
    "from typing import List\n",
    "from dotenv import load_dotenv\n",
    "from bs4 import BeautifulSoup\n",
    "from IPython.display import Markdown, display, update_display\n",
    "from openai import OpenAI"
   ]
  },
  {
   "cell_type": "code",
   "execution_count": 21,
   "id": "4a456906-915a-4bfd-bb9d-57e505c5093f",
   "metadata": {},
   "outputs": [],
   "source": [
    "# constants\n",
    "\n",
    "MODEL_GPT = 'gpt-4o-mini'\n",
    "MODEL_LLAMA = 'phi4'\n",
    "OLLAMA_API = \"http://localhost:11434/v1\"\n",
    "HEADERS = {\"Content-Type\": \"application/json\"}\n"
   ]
  },
  {
   "cell_type": "code",
   "execution_count": 22,
   "id": "a8d7923c-5f28-4c30-8556-342d7c8497c1",
   "metadata": {},
   "outputs": [],
   "source": [
    "# set up environment\n",
    "load_dotenv(override=True)\n",
    "api_key = os.getenv('OPENAI_API_KEY')\n",
    "openai = OpenAI()\n",
    "ollama_via_openai = OpenAI(base_url=OLLAMA_API, api_key='ollama')\n"
   ]
  },
  {
   "cell_type": "code",
   "execution_count": 7,
   "id": "3f0d0137-52b0-47a8-81a8-11a90a010798",
   "metadata": {},
   "outputs": [],
   "source": [
    "# here is the question; type over this to ask something new\n",
    "\n",
    "question = \"\"\"\n",
    "I need you to be my technical assistant. I will give you a technical question or a technical problem \\\n",
    "and I need you to answer it with detailed exalatation with clarity and examples.\n",
    "\"\"\""
   ]
  },
  {
   "cell_type": "code",
   "execution_count": 11,
   "id": "60ce7000-a4a5-4cce-a261-e75ef45063b4",
   "metadata": {},
   "outputs": [],
   "source": [
    "# Get gpt-4o-mini to answer, with streaming\n",
    "def get_chatgpt_answer(user_question: str) -> str:\n",
    "    stream = openai.chat.completions.create(\n",
    "        model=MODEL_GPT,\n",
    "        messages=[\n",
    "            {\"role\": \"system\", \"content\": question},\n",
    "            {\"role\": \"user\", \"content\": user_question}\n",
    "      ],\n",
    "      stream=True\n",
    "    )\n",
    "\n",
    "    response = \"\"\n",
    "    display_handle = display(Markdown(\"\"), display_id=True)\n",
    "    for chunk in stream:\n",
    "        response += chunk.choices[0].delta.content or ''\n",
    "        response = response.replace(\"```\",\"\").replace(\"markdown\", \"\")\n",
    "        update_display(Markdown(response), display_id=display_handle.display_id)"
   ]
  },
  {
   "cell_type": "code",
   "execution_count": 27,
   "id": "c9edd08a",
   "metadata": {},
   "outputs": [],
   "source": [
    "user_question = \"Why linear algebra is a big thing on quantum computing? Why would I need to learn it?\""
   ]
  },
  {
   "cell_type": "code",
   "execution_count": 28,
   "id": "809ef796",
   "metadata": {},
   "outputs": [
    {
     "data": {
      "text/markdown": [
       "Linear algebra is fundamental to quantum computing for several reasons. To understand why it's important and why you would benefit from learning it, let’s break it down into key concepts, applications, and examples.\n",
       "\n",
       "### 1. **Quantum States as Vectors**\n",
       "\n",
       "In quantum computing, quantum states are represented using vectors in a complex vector space, specifically a Hilbert space. Here's why this is crucial:\n",
       "\n",
       "- **Quantum Bits (Qubits)**: A qubit is the basic unit of quantum information. It can exist in a linear combination of states, typically represented as:\n",
       "  \\[\n",
       "  |\\psi\\rangle = \\alpha |0\\rangle + \\beta |1\\rangle\n",
       "  \\]\n",
       "  where \\( |0\\rangle \\) and \\( |1\\rangle \\) are the basis states, and \\( \\alpha \\) and \\( \\beta \\) are complex numbers that define the amplitude and probability of measuring the qubit in either state.\n",
       "\n",
       "- **Vector Representation**: The state of a qubit is a vector in a two-dimensional complex vector space. For a system of multiple qubits, the states can be represented as vectors in a higher-dimensional space.\n",
       "\n",
       "### 2. **Operations as Matrices**\n",
       "\n",
       "Quantum operations (quantum gates) are represented by matrices, and the transformation of quantum states can be performed using matrix multiplication:\n",
       "\n",
       "- **Quantum Gates**: Common quantum gates, such as the Hadamard gate \\( (H) \\) or Pauli-X gate \\( (X) \\), are represented by matrices that operate on the state vector. For example, the Hadamard gate is represented as:\n",
       "  \\[\n",
       "  H = \\frac{1}{\\sqrt{2}}\\begin{pmatrix} 1 & 1 \\\\ 1 & -1 \\end{pmatrix}\n",
       "  \\]\n",
       "  When you apply a gate to a qubit, you perform matrix multiplication, e.g., if \\( |\\psi\\rangle \\) is a qubit state, applying \\( H \\) gives you:\n",
       "  \\[\n",
       "  H |\\psi\\rangle\n",
       "  \\]\n",
       "\n",
       "### 3. **Entanglement and Tensor Products**\n",
       "\n",
       "Entangled states are crucial for quantum computing, and they are described using tensor products, which is another aspect of linear algebra:\n",
       "\n",
       "- **Entangled States**: For two qubits, the combined state might look like:\n",
       "  \\[\n",
       "  | \\Phi \\rangle = \\frac{1}{\\sqrt{2}} ( |00\\rangle + |11\\rangle )\n",
       "  \\]\n",
       "  This state cannot be separated into individual qubit states and showcases the concept of entanglement.\n",
       "\n",
       "### 4. **Measurement and Probabilities**\n",
       "\n",
       "The measurement process in quantum mechanics can also be understood through linear algebra. When you measure a quantum state, you are effectively projecting that state onto a corresponding basis vector:\n",
       "\n",
       "- **Projection**: If you measure in the computational basis \\( |0\\rangle, |1\\rangle \\), the probabilities of obtaining each state can be calculated using the squared magnitudes of the coefficients (amplitudes):\n",
       "  \\[\n",
       "  P(0) = |\\alpha|^2 \\quad \\text{and} \\quad P(1) = |\\beta|^2\n",
       "  \\]\n",
       "\n",
       "### 5. **Quantum Algorithms**\n",
       "\n",
       "Many quantum algorithms rely on linear algebraic concepts, particularly those that involve linear transformations and vector spaces:\n",
       "\n",
       "- **The Quantum Fourier Transform (QFT)**: This is one of the key algorithms used in quantum computing, which utilizes linear algebra for efficient computation.\n",
       "  \n",
       "### Conclusion\n",
       "\n",
       "Learning linear algebra will provide you with the tools necessary to understand the mathematical framework behind quantum computing. It encompasses multiple aspects such as states, operations, measurements, and entanglement. By mastering concepts like vector spaces, matrices, and linear transformations, you can better understand and develop quantum algorithms and applications.\n",
       "\n",
       "### Examples of Learning Resources\n",
       "\n",
       "- **Textbooks**: Look for books like \"Linear Algebra Done Right\" by Sheldon Axler and combine it with quantum mechanics textbooks that emphasize the linear algebra connections, such as \"Quantum Computation and Quantum Information\" by Nielsen and Chuang.\n",
       "- **Online Courses**: Platforms like Coursera and edX offer courses that cover both linear algebra and quantum computing, providing interactive learning experiences.\n",
       "\n",
       "In summary, a solid foundation in linear algebra is not just beneficial; it's essential for anyone looking to comprehend or contribute to the field of quantum computing."
      ],
      "text/plain": [
       "<IPython.core.display.Markdown object>"
      ]
     },
     "metadata": {},
     "output_type": "display_data"
    }
   ],
   "source": [
    "\n",
    "get_chatgpt_answer(user_question)"
   ]
  },
  {
   "cell_type": "code",
   "execution_count": 25,
   "id": "8f7c8ea8-4082-4ad0-8751-3301adcf6538",
   "metadata": {},
   "outputs": [],
   "source": [
    "# Get phi4 to answer\n",
    "def get_ollama_answer(ollama_user_question) -> str:\n",
    "    response = ollama_via_openai.chat.completions.create(\n",
    "        model=MODEL_LLAMA,\n",
    "        messages=[\n",
    "            {\"role\": \"system\", \"content\": question},\n",
    "            {\"role\": \"user\", \"content\": ollama_user_question}\n",
    "        ]\n",
    "    )\n",
    "\n",
    "    display(Markdown(response.choices[0].message.content))"
   ]
  },
  {
   "cell_type": "code",
   "execution_count": 29,
   "id": "1c374e79",
   "metadata": {},
   "outputs": [
    {
     "data": {
      "text/markdown": [
       "Linear algebra is fundamental to quantum computing because the mathematical framework for describing quantum systems depends heavily on concepts from this field. Here’s why it's so important, and why you should consider learning it:\n",
       "\n",
       "### 1. **Quantum States**\n",
       "\n",
       "- **Vectors:** In quantum mechanics, the state of a system is represented by vectors in a complex vector space (usually denoted as \\(\\mathbb{C}^n\\)), known as Hilbert spaces. These vectors encapsulate all information about a quantum system. For example, if you consider a qubit, its state can be represented as \\(|\\psi\\rangle = \\alpha|0\\rangle + \\beta|1\\rangle\\) where \\(|\\alpha|^2 + |\\beta|^2 = 1\\).\n",
       "\n",
       "- **Superposition:** A key principle of quantum mechanics is that a quantum system can exist in multiple states simultaneously, known as superposition. This is only representable and understandable through linear combinations (vectors) in vector spaces.\n",
       "\n",
       "### 2. **Quantum Operations**\n",
       "\n",
       "- **Linear Transformations:** Quantum operations or gates are represented by unitary matrices which transform one quantum state to another. These transformations must be reversible and preserve the norm of state vectors, a property embodied by unitary matrices (\\(U\\)) where \\( U^\\dagger U = I \\) (with \\(I\\) being the identity matrix). Learning about matrix multiplication and properties is essential here.\n",
       "\n",
       "- **Eigenvalues and Eigenvectors:** Understanding how quantum gates affect states also requires familiarity with eigenvalues and eigenvectors, as certain measurements and operations depend on these to reveal outcomes of quantum computations.\n",
       "\n",
       "### 3. **Tensor Products**\n",
       "\n",
       "- **Multi-Qubit Systems:** To describe systems comprising multiple qubits, we use the tensor product to create larger state spaces. For instance, two qubits in states \\(|\\psi_1\\rangle = a|0\\rangle + b|1\\rangle\\) and \\(|\\psi_2\\rangle = c|0\\rangle + d|1\\rangle\\) are combined into a four-dimensional space using a tensor product: \\(|\\Psi\\rangle = |\\psi_1\\rangle \\otimes |\\psi_2\\rangle\\).\n",
       "\n",
       "### 4. **Simulating Quantum Systems**\n",
       "\n",
       "- Efficient simulation of quantum systems on classical computers involves manipulating high-dimensional vectors and matrices, tasks that heavily rely on linear algebra techniques such as matrix diagonalization, factorization, etc.\n",
       "\n",
       "### 5. **Quantum Algorithms**\n",
       "\n",
       "Many quantum algorithms are built upon linear algebra principles. For example:\n",
       "\n",
       "- **Shor’s Algorithm:** Used for factoring integers into prime numbers much faster than the best-known classical algorithms leverages periodicity findings through transformations on vectors.\n",
       "  \n",
       "- **Grover's Algorithm:** Amplifies the probability amplitude of correct solutions, effectively operating as a rotation in vector space to increase the likelihood of measuring the desired state.\n",
       "\n",
       "### 6. **Error Correction and Entanglement**\n",
       "\n",
       "- Quantum error correction codes often use linear algebra concepts such as matrix spaces over finite fields. Entangled states, crucial in quantum computations like teleportation and cryptographic protocols, are represented using vectors spanning tensor product spaces.\n",
       "\n",
       "### Examples:\n",
       "\n",
       "**Example:** Consider a single-qubit gate described by the Pauli-X (NOT Gate) represented in matrix form:\n",
       "\\[ X = \\begin{pmatrix} 0 & 1 \\\\ 1 & 0 \\end{pmatrix} \\]\n",
       "\n",
       "When applied to the state \\(|\\psi\\rangle = |0\\rangle\\), using linear algebra, results in:\n",
       "\n",
       "\\[ X|0\\rangle = \\begin{pmatrix} 0 & 1 \\\\ 1 & 0 \\end{pmatrix}\\begin{pmatrix} 1 \\\\ 0 \\end{pmatrix} = \\begin{pmatrix} 0 \\\\ 1 \\end{pmatrix} = |1\\rangle. \\]\n",
       "\n",
       "This transformation illustrates how linear algebra is applied to change qubit states via matrix multiplication.\n",
       "\n",
       "### Conclusion:\n",
       "\n",
       "Learning linear algebra equips you with the necessary tools to understand quantum mechanics and computation at a mathematical level, enabling you to design, implement, and analyze quantum algorithms effectively. Its concepts form the backbone of representing, manipulating, and measuring complex quantum phenomena. Thus, building a strong foundation in linear algebra is crucial for anyone interested in venturing into quantum computing."
      ],
      "text/plain": [
       "<IPython.core.display.Markdown object>"
      ]
     },
     "metadata": {},
     "output_type": "display_data"
    }
   ],
   "source": [
    "get_ollama_answer(user_question)"
   ]
  }
 ],
 "metadata": {
  "kernelspec": {
   "display_name": ".venv",
   "language": "python",
   "name": "python3"
  },
  "language_info": {
   "codemirror_mode": {
    "name": "ipython",
    "version": 3
   },
   "file_extension": ".py",
   "mimetype": "text/x-python",
   "name": "python",
   "nbconvert_exporter": "python",
   "pygments_lexer": "ipython3",
   "version": "3.11.9"
  }
 },
 "nbformat": 4,
 "nbformat_minor": 5
}
