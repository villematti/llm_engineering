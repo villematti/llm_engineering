{
 "cells": [
  {
   "cell_type": "markdown",
   "id": "d15d8294-3328-4e07-ad16-8a03e9bbfdb9",
   "metadata": {},
   "source": [
    "# Welcome to your first assignment!\n",
    "\n",
    "Instructions are below. Please give this a try, and look in the solutions folder if you get stuck (or feel free to ask me!)"
   ]
  },
  {
   "cell_type": "markdown",
   "id": "ada885d9-4d42-4d9b-97f0-74fbbbfe93a9",
   "metadata": {},
   "source": [
    "<table style=\"margin: 0; text-align: left;\">\n",
    "    <tr>\n",
    "        <td style=\"width: 150px; height: 150px; vertical-align: middle;\">\n",
    "            <img src=\"../resources.jpg\" width=\"150\" height=\"150\" style=\"display: block;\" />\n",
    "        </td>\n",
    "        <td>\n",
    "            <h2 style=\"color:#f71;\">Just before we get to the assignment --</h2>\n",
    "            <span style=\"color:#f71;\">I thought I'd take a second to point you at this page of useful resources for the course. This includes links to all the slides.<br/>\n",
    "            <a href=\"https://edwarddonner.com/2024/11/13/llm-engineering-resources/\">https://edwarddonner.com/2024/11/13/llm-engineering-resources/</a><br/>\n",
    "            Please keep this bookmarked, and I'll continue to add more useful links there over time.\n",
    "            </span>\n",
    "        </td>\n",
    "    </tr>\n",
    "</table>"
   ]
  },
  {
   "cell_type": "markdown",
   "id": "6e9fa1fc-eac5-4d1d-9be4-541b3f2b3458",
   "metadata": {},
   "source": [
    "# HOMEWORK EXERCISE ASSIGNMENT\n",
    "\n",
    "Upgrade the day 1 project to summarize a webpage to use an Open Source model running locally via Ollama rather than OpenAI\n",
    "\n",
    "You'll be able to use this technique for all subsequent projects if you'd prefer not to use paid APIs.\n",
    "\n",
    "**Benefits:**\n",
    "1. No API charges - open-source\n",
    "2. Data doesn't leave your box\n",
    "\n",
    "**Disadvantages:**\n",
    "1. Significantly less power than Frontier Model\n",
    "\n",
    "## Recap on installation of Ollama\n",
    "\n",
    "Simply visit [ollama.com](https://ollama.com) and install!\n",
    "\n",
    "Once complete, the ollama server should already be running locally.  \n",
    "If you visit:  \n",
    "[http://localhost:11434/](http://localhost:11434/)\n",
    "\n",
    "You should see the message `Ollama is running`.  \n",
    "\n",
    "If not, bring up a new Terminal (Mac) or Powershell (Windows) and enter `ollama serve`  \n",
    "And in another Terminal (Mac) or Powershell (Windows), enter `ollama pull llama3.2`  \n",
    "Then try [http://localhost:11434/](http://localhost:11434/) again.\n",
    "\n",
    "If Ollama is slow on your machine, try using `llama3.2:1b` as an alternative. Run `ollama pull llama3.2:1b` from a Terminal or Powershell, and change the code below from `MODEL = \"llama3.2\"` to `MODEL = \"llama3.2:1b\"`"
   ]
  },
  {
   "cell_type": "code",
   "execution_count": 1,
   "id": "4e2a9393-7767-488e-a8bf-27c12dca35bd",
   "metadata": {},
   "outputs": [],
   "source": [
    "# imports\n",
    "\n",
    "import requests\n",
    "from bs4 import BeautifulSoup\n",
    "from IPython.display import Markdown, display"
   ]
  },
  {
   "cell_type": "code",
   "execution_count": 3,
   "id": "29ddd15d-a3c5-4f4e-a678-873f56162724",
   "metadata": {},
   "outputs": [],
   "source": [
    "# Constants\n",
    "\n",
    "OLLAMA_API = \"http://localhost:11434/api/chat\"\n",
    "HEADERS = {\"Content-Type\": \"application/json\"}\n",
    "MODEL = \"phi4\""
   ]
  },
  {
   "cell_type": "code",
   "execution_count": 4,
   "id": "dac0a679-599c-441f-9bf2-ddc73d35b940",
   "metadata": {},
   "outputs": [],
   "source": [
    "# Create a messages list using the same format that we used for OpenAI\n",
    "\n",
    "messages = [\n",
    "    {\"role\": \"user\", \"content\": \"Describe some of the business applications of Generative AI\"}\n",
    "]"
   ]
  },
  {
   "cell_type": "code",
   "execution_count": 5,
   "id": "7bb9c624-14f0-4945-a719-8ddb64f66f47",
   "metadata": {},
   "outputs": [],
   "source": [
    "payload = {\n",
    "        \"model\": MODEL,\n",
    "        \"messages\": messages,\n",
    "        \"stream\": False\n",
    "    }"
   ]
  },
  {
   "cell_type": "code",
   "execution_count": 6,
   "id": "479ff514-e8bd-4985-a572-2ea28bb4fa40",
   "metadata": {},
   "outputs": [
    {
     "name": "stderr",
     "output_type": "stream",
     "text": [
      "\u001b[?25lpulling manifest ⠋ \u001b[?25h\u001b[?25l\u001b[2K\u001b[1Gpulling manifest ⠙ \u001b[?25h\u001b[?25l\u001b[2K\u001b[1Gpulling manifest ⠹ \u001b[?25h\u001b[?25l\u001b[2K\u001b[1Gpulling manifest ⠸ \u001b[?25h\u001b[?25l\u001b[2K\u001b[1Gpulling manifest ⠼ \u001b[?25h\u001b[?25l\u001b[2K\u001b[1Gpulling manifest ⠴ \u001b[?25h\u001b[?25l\u001b[2K\u001b[1Gpulling manifest ⠦ \u001b[?25h\u001b[?25l\u001b[2K\u001b[1Gpulling manifest \n",
      "pulling fd7b6731c33c... 100% ▕████████████████▏ 9.1 GB                         \n",
      "pulling 32695b892af8... 100% ▕████████████████▏  275 B                         \n",
      "pulling fa8235e5b48f... 100% ▕████████████████▏ 1.1 KB                         \n",
      "pulling 45a1c652dddc... 100% ▕████████████████▏   82 B                         \n",
      "pulling f5d6f49c6477... 100% ▕████████████████▏  486 B                         \n",
      "verifying sha256 digest \n",
      "writing manifest \n",
      "success \u001b[?25h\n"
     ]
    }
   ],
   "source": [
    "# Let's just make sure the model is loaded\n",
    "\n",
    "!ollama pull phi4"
   ]
  },
  {
   "cell_type": "code",
   "execution_count": 7,
   "id": "42b9f644-522d-4e05-a691-56e7658c0ea9",
   "metadata": {},
   "outputs": [
    {
     "name": "stdout",
     "output_type": "stream",
     "text": [
      "Generative Artificial Intelligence (AI) refers to models that can generate new content, such as text, images, audio, or code, based on learned patterns from vast datasets. These technologies have a wide array of business applications across various industries:\n",
      "\n",
      "1. **Content Creation and Marketing**:\n",
      "   - **Automated Content Generation**: Businesses use generative AI for creating blog posts, social media updates, advertisements, product descriptions, and more, helping to maintain consistent communication with customers.\n",
      "   - **Personalized Marketing**: Generative models can tailor marketing content to individual consumer preferences, improving engagement rates.\n",
      "\n",
      "2. **Product Design**:\n",
      "   - **Design Prototyping**: In industries like fashion, automotive, and architecture, generative AI can create numerous design prototypes quickly, facilitating innovation and speeding up the development process.\n",
      "   - **Customization**: Companies can offer personalized products by leveraging AI to generate designs based on consumer preferences.\n",
      "\n",
      "3. **Customer Support**:\n",
      "   - **Chatbots and Virtual Assistants**: These systems use natural language generation (NLG) capabilities of generative AI to provide more human-like interactions, improving customer service efficiency.\n",
      "   - **Automated FAQ Generation**: Companies can automatically produce comprehensive FAQs by analyzing common queries and responses.\n",
      "\n",
      "4. **Research and Development**:\n",
      "   - **Drug Discovery**: In pharmaceuticals, generative models aid in the creation of new molecular structures for drug development, accelerating the discovery process.\n",
      "   - **Innovation Assistance**: AI can suggest novel solutions or ideas based on existing data trends, aiding R&D teams across industries.\n",
      "\n",
      "5. **Finance and Risk Management**:\n",
      "   - **Fraud Detection**: Generative AI can simulate fraudulent transactions to train detection systems more effectively.\n",
      "   - **Financial Modeling**: It helps in creating predictive models for market trends, investment opportunities, and risk assessment.\n",
      "\n",
      "6. **Creative Industries**:\n",
      "   - **Art and Music**: Generative models are used by artists and musicians to create unique pieces of art or music compositions, providing new creative tools.\n",
      "   - **Film and Animation**: AI can assist in generating visual effects, storylines, or character animations, enhancing production efficiency.\n",
      "\n",
      "7. **Education and Training**:\n",
      "   - **Personalized Learning Materials**: Generative AI can produce customized educational content to cater to different learning styles and paces.\n",
      "   - **Simulation-Based Training**: In fields like medicine or aviation, generative AI helps create realistic simulations for training purposes.\n",
      "\n",
      "8. **Supply Chain Management**:\n",
      "   - **Demand Forecasting**: Generative models predict demand patterns more accurately, helping businesses manage inventory efficiently.\n",
      "   - **Optimization of Logistics**: AI can suggest optimized routes and strategies for logistics based on historical data and current conditions.\n",
      "\n",
      "9. **Software Development**:\n",
      "   - **Code Generation**: Tools powered by generative AI assist developers in writing code snippets or even complete programs, increasing productivity.\n",
      "   - **Bug Detection and Resolution**: Generative models help identify potential software bugs and propose fixes automatically.\n",
      "\n",
      "10. **Legal Industry**:\n",
      "    - **Document Drafting**: Automating the creation of legal documents such as contracts and agreements saves time for lawyers.\n",
      "    - **Case Research**: AI can generate summaries or insights from vast amounts of legal text to assist in case preparation.\n",
      "\n",
      "Generative AI's ability to automate, personalize, and innovate has made it a valuable asset across many sectors, driving efficiency and creativity. However, businesses must also navigate challenges such as ensuring data privacy, maintaining ethical standards, and managing the potential for job displacement.\n"
     ]
    }
   ],
   "source": [
    "# If this doesn't work for any reason, try the 2 versions in the following cells\n",
    "# And double check the instructions in the 'Recap on installation of Ollama' at the top of this lab\n",
    "# And if none of that works - contact me!\n",
    "\n",
    "response = requests.post(OLLAMA_API, json=payload, headers=HEADERS)\n",
    "print(response.json()['message']['content'])"
   ]
  },
  {
   "cell_type": "markdown",
   "id": "6a021f13-d6a1-4b96-8e18-4eae49d876fe",
   "metadata": {},
   "source": [
    "# Introducing the ollama package\n",
    "\n",
    "And now we'll do the same thing, but using the elegant ollama python package instead of a direct HTTP call.\n",
    "\n",
    "Under the hood, it's making the same call as above to the ollama server running at localhost:11434"
   ]
  },
  {
   "cell_type": "code",
   "execution_count": 8,
   "id": "7745b9c4-57dc-4867-9180-61fa5db55eb8",
   "metadata": {},
   "outputs": [
    {
     "name": "stdout",
     "output_type": "stream",
     "text": [
      "Generative Artificial Intelligence (AI) has a wide range of applications in various business sectors. Here are some key areas where generative AI is making significant impacts:\n",
      "\n",
      "1. **Content Creation and Marketing:**\n",
      "   - **Automated Content Generation:** Generative AI can create written content, such as articles, social media posts, or marketing copy, tailored to specific audiences.\n",
      "   - **Visual Content Production:** Tools like DALL-E can generate images and graphics from textual descriptions, aiding in advertising campaigns and branding efforts.\n",
      "\n",
      "2. **Product Design:**\n",
      "   - **Design Iterations:** AI models can produce multiple design variations for products such as clothing, furniture, or electronics, speeding up the innovation process.\n",
      "   - **Customization and Personalization:** Businesses can offer personalized product designs by using generative AI to create customized options based on customer preferences.\n",
      "\n",
      "3. **Drug Discovery and Research:**\n",
      "   - **Molecular Design:** Generative models are used to propose new molecular structures for pharmaceuticals, potentially speeding up the discovery of effective drugs.\n",
      "   - **Simulation of Experiments:** AI can simulate chemical reactions or biological processes, reducing the need for costly real-world experiments.\n",
      "\n",
      "4. **Customer Service and Support:**\n",
      "   - **Automated Responses:** Generative AI can produce human-like responses to customer queries, improving efficiency in customer service operations.\n",
      "   - **Personalized Recommendations:** By analyzing consumer data, generative models provide personalized product or service recommendations, enhancing the user experience.\n",
      "\n",
      "5. **Finance and Trading:**\n",
      "   - **Risk Assessment Models:** AI generates scenarios for financial risk assessments, allowing businesses to better prepare for market fluctuations.\n",
      "   - **Algorithmic Trading:** Generative AI can create trading strategies based on patterns identified in historical data, potentially increasing profitability.\n",
      "\n",
      "6. **Software Development:**\n",
      "   - **Code Generation:** Tools like GitHub Copilot use generative models to assist developers by suggesting code snippets or entire functions based on existing codebases.\n",
      "   - **Bug Fixing and Optimization:** Generative AI can help identify potential bugs and optimize code for performance improvements.\n",
      "\n",
      "7. **Creative Industries:**\n",
      "   - **Music Composition:** AI models generate music tracks, offering new ideas and inspiration for artists.\n",
      "   - **Film and Animation Production:** AI assists in creating visual effects, editing content, or even generating storylines for creative projects.\n",
      "\n",
      "8. **Supply Chain Management:**\n",
      "   - **Demand Forecasting:** Generative AI can predict future demand by analyzing patterns in historical sales data, helping companies optimize inventory levels.\n",
      "   - **Logistics Optimization:** It generates efficient routing and scheduling plans to reduce transportation costs and improve delivery times.\n",
      "\n",
      "9. **Legal and Compliance:**\n",
      "   - **Document Drafting:** AI helps create legal documents such as contracts or patents quickly and efficiently by generating templates based on existing data.\n",
      "   - **Regulatory Monitoring:** Generative models can assist in monitoring compliance with regulations by analyzing large volumes of legal texts and updates.\n",
      "\n",
      "10. **Human Resources:**\n",
      "    - **Resume Screening:** AI analyzes resumes to identify candidates who best match job descriptions, streamlining the hiring process.\n",
      "    - **Training Programs:** Personalized training content is generated based on individual employee needs, enhancing skill development efforts.\n",
      "\n",
      "These applications demonstrate how generative AI can enhance efficiency, drive innovation, and create new opportunities across various industries. However, businesses must also consider ethical implications and ensure responsible use of these technologies to maximize benefits while mitigating risks.\n"
     ]
    }
   ],
   "source": [
    "import ollama\n",
    "\n",
    "response = ollama.chat(model=MODEL, messages=messages)\n",
    "print(response['message']['content'])"
   ]
  },
  {
   "cell_type": "markdown",
   "id": "a4704e10-f5fb-4c15-a935-f046c06fb13d",
   "metadata": {},
   "source": [
    "## Alternative approach - using OpenAI python library to connect to Ollama"
   ]
  },
  {
   "cell_type": "code",
   "execution_count": null,
   "id": "23057e00-b6fc-4678-93a9-6b31cb704bff",
   "metadata": {},
   "outputs": [],
   "source": [
    "# There's actually an alternative approach that some people might prefer\n",
    "# You can use the OpenAI client python library to call Ollama:\n",
    "\n",
    "from openai import OpenAI\n",
    "ollama_via_openai = OpenAI(base_url='http://localhost:11434/v1', api_key='ollama')\n",
    "\n",
    "response = ollama_via_openai.chat.completions.create(\n",
    "    model=MODEL,\n",
    "    messages=messages\n",
    ")\n",
    "\n",
    "print(response.choices[0].message.content)"
   ]
  },
  {
   "cell_type": "markdown",
   "id": "1622d9bb-5c68-4d4e-9ca4-b492c751f898",
   "metadata": {},
   "source": [
    "# NOW the exercise for you\n",
    "\n",
    "Take the code from day1 and incorporate it here, to build a website summarizer that uses Llama 3.2 running locally instead of OpenAI; use either of the above approaches."
   ]
  },
  {
   "cell_type": "code",
   "execution_count": 25,
   "id": "402d5686-4e76-4110-b65a-b3906c35c0a4",
   "metadata": {},
   "outputs": [],
   "source": [
    "import requests\n",
    "from bs4 import BeautifulSoup\n",
    "from IPython.display import Markdown, display\n",
    "\n",
    "headers = {\n",
    " \"User-Agent\": \"Mozilla/5.0 (Windows NT 10.0; Win64; x64) AppleWebKit/537.36 (KHTML, like Gecko) Chrome/117.0.0.0 Safari/537.36\"\n",
    "}\n",
    "\n",
    "class Website:\n",
    "    def __init__(self, url):\n",
    "        self.url = url\n",
    "        response = requests.get(url, headers=headers)\n",
    "        soup = BeautifulSoup(response.content, 'html.parser')\n",
    "        self.title = soup.title.string if soup.title else \"No title found\"\n",
    "        for irrelevant in soup.body(['script', 'style', 'img', 'input']):\n",
    "            irrelevant.decompose()\n",
    "        self.text = soup.body.get_text(separator=\"\\n\", strip=True)"
   ]
  },
  {
   "cell_type": "code",
   "execution_count": 26,
   "id": "9f364ed0",
   "metadata": {},
   "outputs": [
    {
     "name": "stdout",
     "output_type": "stream",
     "text": [
      "Home - Edward Donner\n",
      "Home\n",
      "Outsmart\n",
      "An arena that pits LLMs against each other in a battle of diplomacy and deviousness\n",
      "About\n",
      "Posts\n",
      "Well, hi there.\n",
      "I’m Ed. I like writing code and experimenting with LLMs, and hopefully you’re here because you do too. I also enjoy DJing (but I’m badly out of practice), amateur electronic music production (\n",
      "very\n",
      "amateur) and losing myself in\n",
      "Hacker News\n",
      ", nodding my head sagely to things I only half understand.\n",
      "I’m the co-founder and CTO of\n",
      "Nebula.io\n",
      ". We’re applying AI to a field where it can make a massive, positive impact: helping people discover their potential and pursue their reason for being. Recruiters use our product today to source, understand, engage and manage talent. I’m previously the founder and CEO of AI startup untapt,\n",
      "acquired in 2021\n",
      ".\n",
      "We work with groundbreaking, proprietary LLMs verticalized for talent, we’ve\n",
      "patented\n",
      "our matching model, and our award-winning platform has happy customers and tons of press coverage.\n",
      "Connect\n",
      "with me for more!\n",
      "December 21, 2024\n",
      "Welcome, SuperDataScientists!\n",
      "November 13, 2024\n",
      "Mastering AI and LLM Engineering – Resources\n",
      "October 16, 2024\n",
      "From Software Engineer to AI Data Scientist – resources\n",
      "August 6, 2024\n",
      "Outsmart LLM Arena – a battle of diplomacy and deviousness\n",
      "Navigation\n",
      "Home\n",
      "Outsmart\n",
      "An arena that pits LLMs against each other in a battle of diplomacy and deviousness\n",
      "About\n",
      "Posts\n",
      "Get in touch\n",
      "ed [at] edwarddonner [dot] com\n",
      "www.edwarddonner.com\n",
      "Follow me\n",
      "LinkedIn\n",
      "Twitter\n",
      "Facebook\n",
      "Subscribe to newsletter\n",
      "Type your email…\n",
      "Subscribe\n"
     ]
    }
   ],
   "source": [
    "ed = Website(\"https://edwarddonner.com\")\n",
    "print(ed.title)\n",
    "print(ed.text)"
   ]
  },
  {
   "cell_type": "code",
   "execution_count": 27,
   "id": "f0e3539c",
   "metadata": {},
   "outputs": [],
   "source": [
    "system_prompt = \"You are an assistant that analyzes the content \\\n",
    "    of a website and provides a short summary, ignoring text that \\\n",
    "    might be navigation related. Respond in markdown format.\""
   ]
  },
  {
   "cell_type": "code",
   "execution_count": 28,
   "id": "42084f1f",
   "metadata": {},
   "outputs": [],
   "source": [
    "def user_prompt_for(website) -> str:\n",
    "    user_prompt = f\"You are looking at a website titled {website.title}\"\n",
    "    user_prompt += \"\\nThe contents of this website is as follows; \\\n",
    "        please provide a short summary of this website in markdown. \\\n",
    "        If it includes news or announcements, then summarize these too.\\n\\n\"\n",
    "    user_prompt += website.text\n",
    "    return user_prompt"
   ]
  },
  {
   "cell_type": "code",
   "execution_count": 29,
   "id": "d152ef62",
   "metadata": {},
   "outputs": [
    {
     "name": "stdout",
     "output_type": "stream",
     "text": [
      "You are looking at a website titled Home - Edward Donner\n",
      "The contents of this website is as follows;         please provide a short summary of this website in markdown.         If it includes news or announcements, then summarize these too.\n",
      "\n",
      "Home\n",
      "Outsmart\n",
      "An arena that pits LLMs against each other in a battle of diplomacy and deviousness\n",
      "About\n",
      "Posts\n",
      "Well, hi there.\n",
      "I’m Ed. I like writing code and experimenting with LLMs, and hopefully you’re here because you do too. I also enjoy DJing (but I’m badly out of practice), amateur electronic music production (\n",
      "very\n",
      "amateur) and losing myself in\n",
      "Hacker News\n",
      ", nodding my head sagely to things I only half understand.\n",
      "I’m the co-founder and CTO of\n",
      "Nebula.io\n",
      ". We’re applying AI to a field where it can make a massive, positive impact: helping people discover their potential and pursue their reason for being. Recruiters use our product today to source, understand, engage and manage talent. I’m previously the founder and CEO of AI startup untapt,\n",
      "acquired in 2021\n",
      ".\n",
      "We work with groundbreaking, proprietary LLMs verticalized for talent, we’ve\n",
      "patented\n",
      "our matching model, and our award-winning platform has happy customers and tons of press coverage.\n",
      "Connect\n",
      "with me for more!\n",
      "December 21, 2024\n",
      "Welcome, SuperDataScientists!\n",
      "November 13, 2024\n",
      "Mastering AI and LLM Engineering – Resources\n",
      "October 16, 2024\n",
      "From Software Engineer to AI Data Scientist – resources\n",
      "August 6, 2024\n",
      "Outsmart LLM Arena – a battle of diplomacy and deviousness\n",
      "Navigation\n",
      "Home\n",
      "Outsmart\n",
      "An arena that pits LLMs against each other in a battle of diplomacy and deviousness\n",
      "About\n",
      "Posts\n",
      "Get in touch\n",
      "ed [at] edwarddonner [dot] com\n",
      "www.edwarddonner.com\n",
      "Follow me\n",
      "LinkedIn\n",
      "Twitter\n",
      "Facebook\n",
      "Subscribe to newsletter\n",
      "Type your email…\n",
      "Subscribe\n"
     ]
    }
   ],
   "source": [
    "print(user_prompt_for(ed))"
   ]
  },
  {
   "cell_type": "code",
   "execution_count": 30,
   "id": "5a994001",
   "metadata": {},
   "outputs": [],
   "source": [
    "def messages_for(website):\n",
    "    return [\n",
    "        {\"role\": \"system\", \"content\": system_prompt},\n",
    "        {\"role\": \"user\", \"content\": user_prompt_for(website)}\n",
    "    ]"
   ]
  },
  {
   "cell_type": "code",
   "execution_count": 31,
   "id": "8f6956ee",
   "metadata": {},
   "outputs": [],
   "source": [
    "def summarize(url):\n",
    "    website = Website(url)\n",
    "    payload = {\n",
    "        \"model\": MODEL,\n",
    "        \"messages\": messages_for(website),\n",
    "        \"stream\": False\n",
    "    }\n",
    "    response = requests.post(OLLAMA_API, json=payload, headers=HEADERS)\n",
    "    print(response.json()['message']['content'])"
   ]
  },
  {
   "cell_type": "code",
   "execution_count": 32,
   "id": "d3723a4c",
   "metadata": {},
   "outputs": [
    {
     "name": "stdout",
     "output_type": "stream",
     "text": [
      "### Yleistetty Pääteksti\n",
      "\n",
      "1. **Vihreän Energian Edistysaskel:**\n",
      "   - Vihreä energia on otettava kärkiin, kun maailma kohtaa ilmastonmuutoksen haasteet.\n",
      "   - Tieteellinen tutkimus on osoittanut, että veden elektrodikomponenttien käyttö hiilen kanssa voi merkittävästi alentaa synteettisen raskaan kaasun valmistamiseen liittyviä kustannuksia.\n",
      "   - Tämä innovaatio avaa uusia mahdollisuuksia vihreän energian edistämisessä, mikä voisi vaikuttaa merkittävästi globaalien päästöjen vähentämiseen.\n",
      "\n",
      "2. **Poliittinen Jännite ja Globaali Vaikutus:**\n",
      "   - Euroopan unioni on kasvanut huolissaan Venäjän strategioista, erityisesti Ukrainan ja Baltian maiden suhteen.\n",
      "   - Sosiaalidemokraattisen puolueen johtaja Suomessa on ilmaissut syvää huolta mahdollisesta yleismaailmallisesta sotilaallisesta konfliktista, mikä saa laajaa huomiota ja keskustelua kansainvälisesti.\n",
      "   - Tämä jännite vaikuttaa politiikkakuvioihin Euroopassa, nostamalla esiin turvallisuuskysymyksiä ja maanpuolustuksen merkitystä.\n",
      "\n",
      "3. **Ilmastonmuutoksen Vaikutus Luonnonilmiöiden Kaappaamiseen:**\n",
      "   - Ilmastonmuutos on johtanut merkittäviin muutoksiin luonnossa, mikä on näkyvissä esimerkiksi Suomen rannikon lähellä havaittavissa olevassa ilmaston lämpenemisessä.\n",
      "   - Nämä muutokset saattavat vaikuttaa merivirtojen luonteeseen ja voimakkuuteen, mikä puolestaan voi vaikuttaa merenkulkuun sekä maaseutualueiden elinkeinoihin.\n",
      "\n",
      "4. **Yhteiskunnalliset Kysymykset ja Tulevaisuuden Suunnitelmat:**\n",
      "   - Laitoksen sulkeminen, kuten Suomen Los Angelesissa tapahtunut pääkonsulaatin sulku maastopalojen vuoksi, korostaa ympäristön ja infrastruktuurin suojelemisen tärkeyttä.\n",
      "   - Tulevaisuuden suunnitelmat keskittyvät kestävän kehityksen ja luonnonvarojen hoidon parantamiseen, mikä on kriittistä sekä kansalliselle että globaalille tasolle.\n",
      "\n",
      "### Avainajat:\n",
      "- Ilmastonmuutos\n",
      "- Vihreä energia\n",
      "- Synteettinen raskaan kaasun valmistus\n",
      "- Elektrodikomponentit\n",
      "- Euroopan unioni (EU)\n",
      "- Venäjän strategia\n",
      "- Baltian maat\n",
      "- Yleismaailmallinen sota\n",
      "- Sosiaalidemokraattinen puolue\n",
      "- Ilmaston lämpeneminen\n",
      "- Merivirrat\n",
      "- Laitoksen sulkeminen\n",
      "- Maastopalojen vaikutus\n",
      "- Kestävä kehitys\n",
      "\n",
      "### Yhteenveto:\n",
      "Tämän analyysin pääkohtia ovat vihreän energian edistäminen, politiikan jännitteet Euroopassa ja ilmastonmuutoksen vaikutukset sekä sosiaaliset kysymykset. Näissä aiheissa on merkittävästi kehitettävää, ja niiden käsittelyyn liittyy monenlaista strategiaa ja suunnittelua tulevaisuuden haasteisiin vastaamiseksi.\n"
     ]
    }
   ],
   "source": [
    "summarize(\"https://yle.fi\")"
   ]
  },
  {
   "cell_type": "code",
   "execution_count": 33,
   "id": "63932869",
   "metadata": {},
   "outputs": [],
   "source": [
    "def display_summary(url):\n",
    "    summary = summarize(url)\n",
    "    display(Markdown(summary))"
   ]
  },
  {
   "cell_type": "code",
   "execution_count": 35,
   "id": "af444a6f",
   "metadata": {},
   "outputs": [
    {
     "name": "stdout",
     "output_type": "stream",
     "text": [
      "### Question and Answer Based on Text\n",
      "\n",
      "**Question:**  \n",
      "From the provided text, can you identify which neural network models or techniques are associated with preventing overfitting in machine learning?\n",
      "\n",
      "**Answer:**  \n",
      "The text mentions a specific technique known as \"Dropout\" that is used to prevent neural networks from overfitting. This method was introduced by Nitish Srivastava and his colleagues: Geoffrey Hinton, Alex Krizhevsky, Ilya Sutskever, and Ruslan Salakhutdinov in their 2014 paper titled \"Dropout: A Simple Way to Prevent Neural Networks from Overfitting\" published in the Journal of Machine Learning Research. Dropout works by randomly dropping units (along with their connections) from the neural network during training, which helps prevent over-reliance on particular neurons and thus reduces overfitting.\n",
      "\n",
      "### Additional Context\n",
      "\n",
      "- **Dropout:** A regularization technique where during each iteration of training, a subset of neurons is ignored or \"dropped out.\" This prevents complex co-adaptations on training data as it forces the network to learn more robust features that are useful in conjunction with many different random subsets of the other neurons.\n",
      "  \n",
      "- **Regularization:** Techniques like Dropout fall under the broader category of regularization techniques, which are methods used to prevent overfitting by adding some form of constraint or penalty to the model.\n",
      "\n",
      "This technique is particularly effective for deep neural networks and has been widely adopted in various machine learning models.\n"
     ]
    },
    {
     "data": {
      "text/plain": [
       "<IPython.core.display.Markdown object>"
      ]
     },
     "metadata": {},
     "output_type": "display_data"
    }
   ],
   "source": [
    "display_summary(\"https://arxiv.org/html/1706.03762v7\")"
   ]
  },
  {
   "cell_type": "markdown",
   "id": "51b7a051",
   "metadata": {},
   "source": [
    "## Key Updates\n",
    "\n",
    "### Crime and Justice:\n",
    "1. **Manhattan Bank Robbery Trial**: The trial is underway for two men accused of a $15 million bank heist in Manhattan, New York City.\n",
    "2. **Rudy Giuliani**: Former President Donald Trump's attorney was held in contempt by a federal judge due to repeated falsehoods during testimony in an Atlanta election interference case.\n",
    "\n",
    "### Health and Safety:\n",
    "3. **Orca Mother**: Concerns have arisen as the mother of a dead orca calf is now carrying another deceased calf, marking her second such experience.\n",
    "4. **Chicago Fire Incident**: A fire at a Chicago hotel resulted in one death and 18 injuries, highlighting ongoing safety concerns.\n",
    "\n",
    "### Environment:\n",
    "5. **Lake Mead Reservoir Levels**: The reservoir has reached an all-time low of 1,074 feet due to drought conditions in the Southwest United States.\n",
    "\n",
    "## Additional Highlights:\n",
    "\n",
    "- **Global Issues**:\n",
    "  - Chinese authorities have taken down a popular video app known as \"Douyin,\" which is equivalent to TikTok and available only outside China.\n",
    "  \n",
    "- **Cultural Updates**:\n",
    "  - The Girl Scouts are retiring two cookie flavors at the end of their current season, marking a change in their product offerings.\n",
    "\n",
    "These updates reflect ongoing legal proceedings, environmental challenges, public safety incidents, and cultural shifts across different regions."
   ]
  }
 ],
 "metadata": {
  "kernelspec": {
   "display_name": ".venv",
   "language": "python",
   "name": "python3"
  },
  "language_info": {
   "codemirror_mode": {
    "name": "ipython",
    "version": 3
   },
   "file_extension": ".py",
   "mimetype": "text/x-python",
   "name": "python",
   "nbconvert_exporter": "python",
   "pygments_lexer": "ipython3",
   "version": "3.11.9"
  }
 },
 "nbformat": 4,
 "nbformat_minor": 5
}
